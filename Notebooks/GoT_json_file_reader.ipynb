{
 "cells": [
  {
   "cell_type": "code",
   "execution_count": 1,
   "metadata": {
    "collapsed": true
   },
   "outputs": [],
   "source": [
    "import json\n",
    "import pandas as pd\n",
    "import time"
   ]
  },
  {
   "cell_type": "code",
   "execution_count": 2,
   "metadata": {
    "collapsed": true
   },
   "outputs": [],
   "source": [
    "f = open('./data/episodes.json')\n",
    "data = json.load(f)\n",
    "f.close()"
   ]
  },
  {
   "cell_type": "code",
   "execution_count": 3,
   "metadata": {},
   "outputs": [],
   "source": [
    "# df[1]['scenes'][1]['sceneEnd']\n",
    "# df[1]['scenes'][1]['characters'][1]['name']\n",
    "# t = data['episodes'][1]['scenes'][1]['sceneEnd']\n",
    "# time.strptime(t, \"%H:%M:%S\")\n",
    "\n",
    "data_list = list()\n",
    "\n",
    "for episode in data['episodes']:\n",
    "    seasonNum = episode['seasonNum']\n",
    "    episodeNum =  episode['episodeNum']  \n",
    "    for scene in episode['scenes']:\n",
    "        sceneStart = scene['sceneStart']\n",
    "        sceneEnd = scene['sceneEnd']\n",
    "        for character in scene['characters']:\n",
    "            characterName = character['name']\n",
    "            row = [seasonNum, episodeNum, characterName, sceneStart, sceneEnd]\n",
    "            data_list.append(row)   \n",
    "            \n",
    "            \n",
    "df = pd.DataFrame(columns=['season_num', 'episode_num', 'character_name', 'scene_start_time', 'scene_end_time'], \n",
    "                      data=data_list)"
   ]
  },
  {
   "cell_type": "code",
   "execution_count": 4,
   "metadata": {
    "collapsed": true
   },
   "outputs": [],
   "source": [
    "def duration(row):\n",
    "    t_start = time.strptime(row['scene_start_time'], \"%H:%M:%S\")    \n",
    "    t_end = time.strptime(row['scene_end_time'], \"%H:%M:%S\")\n",
    "    \n",
    "    t_start_sec = 3600*t_start.tm_hour + 60*t_start.tm_min +t_start.tm_sec\n",
    "    t_end_sec = 3600*t_end.tm_hour + 60*t_end.tm_min + t_end.tm_sec\n",
    "    duration_sec = t_end_sec - t_start_sec\n",
    "    return duration_sec"
   ]
  },
  {
   "cell_type": "code",
   "execution_count": 5,
   "metadata": {},
   "outputs": [],
   "source": [
    "def duration(t_start, t_end):\n",
    "    t_start_sec = 3600*t_start.tm_hour + 60*t_start.tm_min +t_start.tm_sec\n",
    "    t_end_sec = 3600*t_end.tm_hour + 60*t_end.tm_min + t_end.tm_sec\n",
    "    duration_sec = t_end_sec - t_start_sec\n",
    "    return duration_sec"
   ]
  },
  {
   "cell_type": "code",
   "execution_count": 6,
   "metadata": {},
   "outputs": [
    {
     "data": {
      "text/html": [
       "<div>\n",
       "<style scoped>\n",
       "    .dataframe tbody tr th:only-of-type {\n",
       "        vertical-align: middle;\n",
       "    }\n",
       "\n",
       "    .dataframe tbody tr th {\n",
       "        vertical-align: top;\n",
       "    }\n",
       "\n",
       "    .dataframe thead th {\n",
       "        text-align: right;\n",
       "    }\n",
       "</style>\n",
       "<table border=\"1\" class=\"dataframe\">\n",
       "  <thead>\n",
       "    <tr style=\"text-align: right;\">\n",
       "      <th></th>\n",
       "      <th>season_num</th>\n",
       "      <th>episode_num</th>\n",
       "      <th>character_name</th>\n",
       "      <th>scene_start_time</th>\n",
       "      <th>scene_end_time</th>\n",
       "    </tr>\n",
       "  </thead>\n",
       "  <tbody>\n",
       "    <tr>\n",
       "      <th>0</th>\n",
       "      <td>1</td>\n",
       "      <td>1</td>\n",
       "      <td>Gared</td>\n",
       "      <td>0:00:40</td>\n",
       "      <td>0:01:45</td>\n",
       "    </tr>\n",
       "    <tr>\n",
       "      <th>1</th>\n",
       "      <td>1</td>\n",
       "      <td>1</td>\n",
       "      <td>Waymar Royce</td>\n",
       "      <td>0:00:40</td>\n",
       "      <td>0:01:45</td>\n",
       "    </tr>\n",
       "    <tr>\n",
       "      <th>2</th>\n",
       "      <td>1</td>\n",
       "      <td>1</td>\n",
       "      <td>Will</td>\n",
       "      <td>0:00:40</td>\n",
       "      <td>0:01:45</td>\n",
       "    </tr>\n",
       "    <tr>\n",
       "      <th>3</th>\n",
       "      <td>1</td>\n",
       "      <td>1</td>\n",
       "      <td>Gared</td>\n",
       "      <td>0:01:45</td>\n",
       "      <td>0:03:24</td>\n",
       "    </tr>\n",
       "    <tr>\n",
       "      <th>4</th>\n",
       "      <td>1</td>\n",
       "      <td>1</td>\n",
       "      <td>Waymar Royce</td>\n",
       "      <td>0:01:45</td>\n",
       "      <td>0:03:24</td>\n",
       "    </tr>\n",
       "  </tbody>\n",
       "</table>\n",
       "</div>"
      ],
      "text/plain": [
       "   season_num  episode_num character_name scene_start_time scene_end_time\n",
       "0           1            1          Gared          0:00:40        0:01:45\n",
       "1           1            1   Waymar Royce          0:00:40        0:01:45\n",
       "2           1            1           Will          0:00:40        0:01:45\n",
       "3           1            1          Gared          0:01:45        0:03:24\n",
       "4           1            1   Waymar Royce          0:01:45        0:03:24"
      ]
     },
     "execution_count": 6,
     "metadata": {},
     "output_type": "execute_result"
    }
   ],
   "source": [
    "df.head()"
   ]
  }
 ],
 "metadata": {
  "kernelspec": {
   "display_name": "Python 3",
   "language": "python",
   "name": "python3"
  },
  "language_info": {
   "codemirror_mode": {
    "name": "ipython",
    "version": 3
   },
   "file_extension": ".py",
   "mimetype": "text/x-python",
   "name": "python",
   "nbconvert_exporter": "python",
   "pygments_lexer": "ipython3",
   "version": "3.6.2"
  }
 },
 "nbformat": 4,
 "nbformat_minor": 2
}
